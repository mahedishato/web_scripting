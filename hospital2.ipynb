{
 "cells": [
  {
   "cell_type": "code",
   "execution_count": 87,
   "id": "b2e79b41",
   "metadata": {},
   "outputs": [],
   "source": [
    "import pandas as pd \n",
    "import numpy as np\n",
    "import matplotlib.pyplot as plt\n",
    "%matplotlib inline"
   ]
  },
  {
   "cell_type": "code",
   "execution_count": 88,
   "id": "cfc1a5f4",
   "metadata": {},
   "outputs": [],
   "source": [
    "import requests\n",
    "from bs4 import BeautifulSoup"
   ]
  },
  {
   "cell_type": "code",
   "execution_count": 89,
   "id": "a1524999",
   "metadata": {},
   "outputs": [],
   "source": [
    "header = {'User-Agent': 'Mozilla/5.0 (Windows NT 6.3; Win64; x64) Applewebkit/537.36 (KHTML, like Gecko) Chrome/80.0.3987.162 Safari/537.36'}\n",
    "\n",
    "webpage= requests.get('https://www.top-rated.online/countries/Bangladesh/cities/Dhaka/Hospitals+&+Clinics/3', headers=header).text"
   ]
  },
  {
   "cell_type": "code",
   "execution_count": 90,
   "id": "1002065c",
   "metadata": {},
   "outputs": [],
   "source": [
    "soup = BeautifulSoup(webpage, 'lxml')"
   ]
  },
  {
   "cell_type": "code",
   "execution_count": 99,
   "id": "4206f572",
   "metadata": {},
   "outputs": [
    {
     "data": {
      "text/plain": [
       "'4.00 New Dhaka Modern Clinic  \\xa0 (43 reviews)'"
      ]
     },
     "execution_count": 99,
     "metadata": {},
     "output_type": "execute_result"
    }
   ],
   "source": [
    "soup.find_all('li')[0].text.strip()"
   ]
  },
  {
   "cell_type": "code",
   "execution_count": 92,
   "id": "d1274c3f",
   "metadata": {},
   "outputs": [],
   "source": [
    "hospital11= []\n",
    "for i in soup.find_all('li'):\n",
    "    hospital11.append(i.text.strip(''))"
   ]
  },
  {
   "cell_type": "code",
   "execution_count": 93,
   "id": "97e4f158",
   "metadata": {},
   "outputs": [
    {
     "data": {
      "text/plain": [
       "['4.00 New Dhaka Modern Clinic  \\xa0 (43 reviews)',\n",
       " '4.10 Reliance General & Renal Hospital  \\xa0 (43 reviews)',\n",
       " '3.70 Dhaka Mahanagar Shishu Hospital  \\xa0 (43 reviews)',\n",
       " '4.30 Ar-Raha Hospital & Diagnostics Ltd.  \\xa0 (43 reviews)',\n",
       " '4.10 Dhaka Orthopedic Hospital  \\xa0 (42 reviews)',\n",
       " '4.20 Surecell Medical Bangladesh Ltd.  \\xa0 (42 reviews)',\n",
       " '3.30 Chankharpul General Hospital  \\xa0 (42 reviews)',\n",
       " '3.50 Renaissance Hospital & Research Institute Ltd.  \\xa0 (42 reviews)',\n",
       " '5.00 New Expert Physiotherapy center  \\xa0 (42 reviews)',\n",
       " '3.80 Dhaka Mohanagar General Hospital  \\xa0 (41 reviews)',\n",
       " '4.00 Dhaka Paediatric-Neonatal & General Hospital Limited  \\xa0 (41 reviews)',\n",
       " '3.80 Medinova Medical Services Ltd.  \\xa0 (41 reviews)',\n",
       " '4.00 UTPS  \\xa0 (41 reviews)',\n",
       " '4.10 Shaheed Khalek-Ibrahim General Hospital  \\xa0 (41 reviews)',\n",
       " '3.70 Life Aid Specialized Hospital Pvt. Ltd.  \\xa0 (40 reviews)',\n",
       " '4.00 Green View Clinic  \\xa0 (40 reviews)',\n",
       " '4.00 Medinet Medical Services  \\xa0 (40 reviews)',\n",
       " '3.70 Institute of Laser Surgery & Hospital Ltd.  \\xa0 (40 reviews)',\n",
       " '4.60 বার্ন ও প্লাস্টিক সার্জারি বিভাগ, ঢাকা মেডিকেল কলেজ হাসপাতাল  \\xa0 (39 reviews)',\n",
       " '4.20 Bari-Ilizarov Orthopaedic Centre  \\xa0 (39 reviews)',\n",
       " '3.90 Gulshan Clinic Limited.  \\xa0 (38 reviews)',\n",
       " '3.50 Unity Aid Hospital Ltd  \\xa0 (38 reviews)',\n",
       " '4.20 masaya skin care  \\xa0 (38 reviews) CLOSED',\n",
       " '4.30 Labaid Iconic , Kalabagan  \\xa0 (37 reviews)',\n",
       " '3.80 মেডি এইড জেনারেল হাসপাতাল লিমিটেড  \\xa0 (36 reviews)',\n",
       " '4.20 BIODENT Dental Clinic & Implant Center  \\xa0 (35 reviews)',\n",
       " '4.80 Affordable Dental Clinic, Banani  \\xa0 (35 reviews)',\n",
       " '3.30 Meditech General Hospital  \\xa0 (34 reviews)',\n",
       " '3.00 Dhanmondi Clinic Pvt. Ltd.  \\xa0 (34 reviews)',\n",
       " '3.30 Al Sami Hospital  \\xa0 (34 reviews)',\n",
       " '3.60 Abeer General Hospital  \\xa0 (33 reviews)',\n",
       " '2.90 HL Laser Care  \\xa0 (33 reviews)',\n",
       " '3.90 Islamia General Hospital  \\xa0 (33 reviews)',\n",
       " '3.50 Naaz E Noor Hospital (Pvt) Ltd  \\xa0 (33 reviews)',\n",
       " '3.90 Health Aid Diagnostic and Hospital  \\xa0 (32 reviews)',\n",
       " '4.30 RAHETID  \\xa0 (32 reviews)',\n",
       " '3.90 Bangladesh Eye Care Hospital Ltd  \\xa0 (32 reviews)',\n",
       " '3.60 Dhanmondi General & Kidney Hospital Ltd  \\xa0 (31 reviews)',\n",
       " '3.80 Marie Stopes Premium Maternity, Dhanmondi  \\xa0 (31 reviews)',\n",
       " '4.40 Sapporo Dental Care  \\xa0 (31 reviews)',\n",
       " '« Previous page',\n",
       " 'Next page »',\n",
       " 'View All in Dhaka',\n",
       " 'Bars and Pubs in Dhaka',\n",
       " 'Beaches in Dhaka',\n",
       " 'Coffee Shops in Dhaka',\n",
       " 'Fitness Clubs & Gyms in Dhaka',\n",
       " 'Hospitals & Clinics in Dhaka',\n",
       " 'Hostels in Dhaka',\n",
       " 'Hotels in Dhaka',\n",
       " 'Jewellers in Dhaka',\n",
       " 'Lakes in Dhaka',\n",
       " 'Museums in Dhaka',\n",
       " 'Night Clubs in Dhaka',\n",
       " 'Parks in Dhaka',\n",
       " 'Restaurants in Dhaka',\n",
       " 'Shopping Centers in Dhaka',\n",
       " 'Sights & Landmarks in Dhaka',\n",
       " 'Tourist Attractions in Dhaka',\n",
       " 'Vegan Restaurants in Dhaka',\n",
       " 'Zoos & Aquariums in Dhaka',\n",
       " 'Paltan, Bangladesh (~1km)',\n",
       " 'Azimpur, Bangladesh (~2km)',\n",
       " 'Narayanganj, Bangladesh (~15km)',\n",
       " 'Tungi, Bangladesh (~20km)',\n",
       " 'Dohār, Bangladesh (~32km)',\n",
       " 'Char Bhadrāsan, Bangladesh (~49km)',\n",
       " 'Narsingdi, Bangladesh (~60km)',\n",
       " 'Farīdpur, Bangladesh (~60km)',\n",
       " 'Nāgarpur, Bangladesh (~64km)',\n",
       " 'Mādārīpur, Bangladesh (~66km)']"
      ]
     },
     "execution_count": 93,
     "metadata": {},
     "output_type": "execute_result"
    }
   ],
   "source": [
    "hospital11"
   ]
  },
  {
   "cell_type": "code",
   "execution_count": 94,
   "id": "dee0eca1",
   "metadata": {},
   "outputs": [],
   "source": [
    "d ={'data':hospital11}"
   ]
  },
  {
   "cell_type": "code",
   "execution_count": 95,
   "id": "ec515698",
   "metadata": {},
   "outputs": [],
   "source": [
    "df =pd.DataFrame(d)"
   ]
  },
  {
   "cell_type": "code",
   "execution_count": 96,
   "id": "e6fc3c03",
   "metadata": {},
   "outputs": [],
   "source": [
    "df.to_csv('hospital35.csv')"
   ]
  },
  {
   "cell_type": "code",
   "execution_count": null,
   "id": "93a578f2",
   "metadata": {},
   "outputs": [],
   "source": []
  },
  {
   "cell_type": "code",
   "execution_count": null,
   "id": "0644e74a",
   "metadata": {},
   "outputs": [],
   "source": []
  },
  {
   "cell_type": "code",
   "execution_count": 75,
   "id": "446d9c0b",
   "metadata": {},
   "outputs": [],
   "source": []
  },
  {
   "cell_type": "code",
   "execution_count": null,
   "id": "d99179ef",
   "metadata": {},
   "outputs": [],
   "source": []
  },
  {
   "cell_type": "code",
   "execution_count": null,
   "id": "ed48588a",
   "metadata": {},
   "outputs": [],
   "source": []
  }
 ],
 "metadata": {
  "kernelspec": {
   "display_name": "Python 3 (ipykernel)",
   "language": "python",
   "name": "python3"
  },
  "language_info": {
   "codemirror_mode": {
    "name": "ipython",
    "version": 3
   },
   "file_extension": ".py",
   "mimetype": "text/x-python",
   "name": "python",
   "nbconvert_exporter": "python",
   "pygments_lexer": "ipython3",
   "version": "3.9.12"
  }
 },
 "nbformat": 4,
 "nbformat_minor": 5
}
